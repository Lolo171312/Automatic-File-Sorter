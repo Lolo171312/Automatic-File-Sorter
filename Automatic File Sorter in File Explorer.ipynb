{
 "cells": [
  {
   "cell_type": "code",
   "execution_count": 39,
   "id": "67b70df2-9ac9-4bb3-bef2-258ee4edc3a7",
   "metadata": {},
   "outputs": [],
   "source": [
    "import os, shutil"
   ]
  },
  {
   "cell_type": "code",
   "execution_count": 40,
   "id": "1bc2dc4a-911b-4dc6-a108-b5e9d7334a6d",
   "metadata": {
    "scrolled": true
   },
   "outputs": [],
   "source": [
    "#Files path\n",
    "path = r\"D:/DataAnalystBootcamp/Python/Automated File Sorter/\""
   ]
  },
  {
   "cell_type": "code",
   "execution_count": 57,
   "id": "f184790e-673b-47bc-aed9-8576a77e8a2e",
   "metadata": {},
   "outputs": [],
   "source": [
    "#Get every file in the FilePath\n",
    "files = os.listdir(path)"
   ]
  },
  {
   "cell_type": "code",
   "execution_count": 58,
   "id": "e5e93348-fdef-44cb-aaa5-da91c3473dc6",
   "metadata": {},
   "outputs": [],
   "source": [
    "#Create Dictionary with the relation .extension -> desired file location\n",
    "folder_names = {\"JPG\":\"Image Files\", \"csv\":\"CSV Files\", \"txt\":\"Text Files\", \"png\":\"Image Files\"}\n",
    "\n",
    "#Create folders for the files if those folders don´t exits already\n",
    "for folder_name in folder_names.values():\n",
    "    if not os.path.exists(path + folder_name):\n",
    "        os.makedirs(path + folder_name)"
   ]
  },
  {
   "cell_type": "code",
   "execution_count": 64,
   "id": "f2d147bc-59e3-4409-b743-dbae54afcc91",
   "metadata": {},
   "outputs": [],
   "source": [
    "#Move every file to their desired destination\n",
    "for file in files:\n",
    "    #Check if file has an extension\n",
    "    if '.' not in file or not os.path.exists(path+file):\n",
    "        continue\n",
    "\n",
    "    #Get file´s extension\n",
    "    file_format = file.split('.', 1)[1]\n",
    "    success = False\n",
    "    #Check if that extension is in the supported extensions\n",
    "    for extension, folder_name in folder_names.items():\n",
    "        if file_format == extension:\n",
    "            #Move the current file to the desired folder\n",
    "            shutil.move(path + file, path + folder_name + \"/\" + file)\n",
    "            print(f\"{file} was successfully saved as '{extension}' in {folder_name} folder\")\n",
    "            success = True\n",
    "            continue\n",
    "    if not success:\n",
    "        print(f\"ERROR: {file} has an invalid format! .{file_format} is not supported\")"
   ]
  },
  {
   "cell_type": "code",
   "execution_count": null,
   "id": "0f5d67a9-0609-498e-9fd1-30390797a567",
   "metadata": {},
   "outputs": [],
   "source": []
  }
 ],
 "metadata": {
  "kernelspec": {
   "display_name": "Python [conda env:base] *",
   "language": "python",
   "name": "conda-base-py"
  },
  "language_info": {
   "codemirror_mode": {
    "name": "ipython",
    "version": 3
   },
   "file_extension": ".py",
   "mimetype": "text/x-python",
   "name": "python",
   "nbconvert_exporter": "python",
   "pygments_lexer": "ipython3",
   "version": "3.13.5"
  }
 },
 "nbformat": 4,
 "nbformat_minor": 5
}
